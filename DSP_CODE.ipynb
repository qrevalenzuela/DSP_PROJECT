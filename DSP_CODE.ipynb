{
  "nbformat": 4,
  "nbformat_minor": 0,
  "metadata": {
    "colab": {
      "provenance": []
    },
    "kernelspec": {
      "name": "python3",
      "display_name": "Python 3"
    },
    "language_info": {
      "name": "python"
    }
  },
  "cells": [
    {
      "cell_type": "code",
      "source": [
        "from google.colab import drive\n",
        "drive.mount('/content/drive')"
      ],
      "metadata": {
        "colab": {
          "base_uri": "https://localhost:8080/"
        },
        "id": "bMX7mi6HQjcK",
        "outputId": "497b773b-4109-4948-c796-897dda9af4ba"
      },
      "execution_count": 4,
      "outputs": [
        {
          "output_type": "stream",
          "name": "stdout",
          "text": [
            "Mounted at /content/drive\n"
          ]
        }
      ]
    },
    {
      "cell_type": "markdown",
      "source": [
        "# FOR SQUIDWARD"
      ],
      "metadata": {
        "id": "6bAlvBhnkyhh"
      }
    },
    {
      "cell_type": "code",
      "source": [
        "import numpy as np\n",
        "import scipy.signal as signal\n",
        "import librosa\n",
        "import soundfile as sf\n",
        "import os\n",
        "\n",
        "\n",
        "folder_path = '/content/drive/MyDrive/Record/SQUIIIDWARD'\n",
        "file_list = os.listdir(folder_path)\n",
        "output_folder_path = '/content/drive/MyDrive/Record/squidub'\n",
        "for file_path in file_list:\n",
        "\n",
        " if not os.path.isfile(os.path.join(folder_path, file_path)):\n",
        "    continue\n",
        "\n",
        " audio_file, sr = librosa.load(os.path.join(folder_path, file_path), sr=None)\n",
        "\n",
        "\n",
        " shifted_audio = librosa.effects.pitch_shift(audio_file, n_steps=-5, sr=sr)\n",
        " stretched_audio = signal.resample(shifted_audio, int(len(shifted_audio) * 0.6))\n",
        "\n",
        " cutoff_hz = 4000\n",
        " nyquist = 0.5 * sr\n",
        " normal_cutoff = cutoff_hz / nyquist\n",
        " b, a = signal.butter(6, normal_cutoff, btype='low', analog=False)\n",
        " filtered_audio = signal.filtfilt(b, a, stretched_audio)\n",
        "\n",
        " output_file_path = os.path.join(output_folder_path, file_path + '_processed.wav')\n",
        "\n",
        " # Output the processed audio file\n",
        " sf.write(output_file_path, filtered_audio, sr)"
      ],
      "metadata": {
        "id": "gBvbp2CCkOab"
      },
      "execution_count": 5,
      "outputs": []
    },
    {
      "cell_type": "markdown",
      "source": [
        "# FOR SPONGEBOB"
      ],
      "metadata": {
        "id": "CS9UqRKclahj"
      }
    },
    {
      "cell_type": "code",
      "source": [
        "import numpy as np\n",
        "import scipy.signal as signal\n",
        "import librosa\n",
        "import soundfile as sf\n",
        "import os\n",
        "\n",
        "\n",
        "folder_path = '/content/drive/MyDrive/Record/SPONGEBOBWAV'\n",
        "file_list = os.listdir(folder_path)\n",
        "output_folder_path = '/content/drive/MyDrive/Record/SPONGE_DUB'\n",
        "for file_path in file_list:\n",
        "\n",
        " if not os.path.isfile(os.path.join(folder_path, file_path)):\n",
        "    continue\n",
        "\n",
        " audio_file, sr = librosa.load(os.path.join(folder_path, file_path), sr=None)\n",
        "\n",
        "\n",
        " shifted_audio = librosa.effects.pitch_shift(audio_file, n_steps=5, sr=sr)\n",
        " stretched_audio = signal.resample(shifted_audio, int(len(shifted_audio) * 0.7))\n",
        "\n",
        " cutoff_hz = 4000\n",
        " nyquist = 0.5 * sr\n",
        " normal_cutoff = cutoff_hz / nyquist\n",
        " b, a = signal.butter(6, normal_cutoff, btype='low', analog=False)\n",
        " filtered_audio = signal.filtfilt(b, a, stretched_audio)\n",
        "\n",
        " output_file_path = os.path.join(output_folder_path, file_path + '_processed.wav')\n",
        "\n",
        " # Output the processed audio file\n",
        " sf.write(output_file_path, filtered_audio, sr)"
      ],
      "metadata": {
        "id": "9iq0fnialZfn"
      },
      "execution_count": null,
      "outputs": []
    },
    {
      "cell_type": "markdown",
      "source": [
        "# FOR PATRICK"
      ],
      "metadata": {
        "id": "688b9RrRleAq"
      }
    },
    {
      "cell_type": "code",
      "source": [
        "import numpy as np\n",
        "import scipy.signal as signal\n",
        "import librosa\n",
        "import soundfile as sf\n",
        "import os\n",
        "\n",
        "\n",
        "folder_path = '/content/drive/MyDrive/Record/SQUIIIDWARD'\n",
        "file_list = os.listdir(folder_path)\n",
        "output_folder_path = '/content/drive/MyDrive/Record/squidub'\n",
        "for file_path in file_list:\n",
        "\n",
        " if not os.path.isfile(os.path.join(folder_path, file_path)):\n",
        "    continue\n",
        "\n",
        " audio_file, sr = librosa.load(os.path.join(folder_path, file_path), sr=None)\n",
        "\n",
        "\n",
        " shifted_audio = librosa.effects.pitch_shift(audio_file, n_steps=-5, sr=sr)\n",
        " stretched_audio = signal.resample(shifted_audio, int(len(shifted_audio) * 0.7))\n",
        "\n",
        " cutoff_hz = 4000\n",
        " nyquist = 0.5 * sr\n",
        " normal_cutoff = cutoff_hz / nyquist\n",
        " b, a = signal.butter(6, normal_cutoff, btype='low', analog=False)\n",
        " filtered_audio = signal.filtfilt(b, a, stretched_audio)\n",
        "\n",
        " output_file_path = os.path.join(output_folder_path, file_path + '_processed.wav')\n",
        "\n",
        " # Output the processed audio file\n",
        " sf.write(output_file_path, filtered_audio, sr)"
      ],
      "metadata": {
        "id": "-5vY8bIQlf-Y"
      },
      "execution_count": null,
      "outputs": []
    }
  ]
}